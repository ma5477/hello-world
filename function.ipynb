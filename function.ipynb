{
  "nbformat": 4,
  "nbformat_minor": 0,
  "metadata": {
    "colab": {
      "name": "Untitled6.ipynb",
      "provenance": [],
      "authorship_tag": "ABX9TyM1C6Hr8Mni+CnFxH5i6z8G",
      "include_colab_link": true
    },
    "kernelspec": {
      "name": "python3",
      "display_name": "Python 3"
    },
    "language_info": {
      "name": "python"
    }
  },
  "cells": [
    {
      "cell_type": "markdown",
      "metadata": {
        "id": "view-in-github",
        "colab_type": "text"
      },
      "source": [
        "<a href=\"https://colab.research.google.com/github/ma5477/hello-world/blob/main/function.ipynb\" target=\"_parent\"><img src=\"https://colab.research.google.com/assets/colab-badge.svg\" alt=\"Open In Colab\"/></a>"
      ]
    },
    {
      "cell_type": "code",
      "metadata": {
        "id": "t3tgFMD4gfCI",
        "outputId": "63321392-7406-4ebc-8ec0-bcd545dc4e26",
        "colab": {
          "base_uri": "https://localhost:8080/"
        }
      },
      "source": [
        "str=input(\"enter u r str:  \")\n",
        "ch=[str]\n",
        "for r in ch:\n",
        "  for x in r:\n",
        "    if x.islower()==True:\n",
        "      A=(x.upper())\n",
        "\n",
        "      \n",
        "      print(A)\n",
        "    else:\n",
        "    \n",
        "     B=(x.lower())\n",
        "     print(B)\n",
        "  print(A+B)\n",
        "  print(\" done\")"
      ],
      "execution_count": 19,
      "outputs": [
        {
          "output_type": "stream",
          "text": [
            "enter u r str:  ad\n",
            "A\n",
            "D\n",
            "Dv\n",
            " done\n"
          ],
          "name": "stdout"
        }
      ]
    },
    {
      "cell_type": "code",
      "metadata": {
        "id": "GwgUjkPInMKn"
      },
      "source": [
        ""
      ],
      "execution_count": null,
      "outputs": []
    },
    {
      "cell_type": "code",
      "metadata": {
        "id": "j5ITTsPRnoSa",
        "outputId": "f24260d4-fbd2-4c54-f50e-f0ec60a2cb14",
        "colab": {
          "base_uri": "https://localhost:8080/"
        }
      },
      "source": [
        "# python code to demonstrate working of reduce()\n",
        "# using operator functions\n",
        "\n",
        "# importing functools for reduce()\n",
        "import functools\n",
        "\n",
        "# importing operator for operator functions\n",
        "import operator\n",
        "\n",
        "# initializing list\n",
        "lis = [ 1 , 3, 5, 6, 2, ]\n",
        "\n",
        "# using reduce to compute sum of list\n",
        "# using operator functions\n",
        "print (\"The sum of the list elements is : \",end=\"\")\n",
        "print (functools.reduce(operator.add,lis))\n",
        "\n",
        "# using reduce to compute product\n",
        "# using operator functions\n",
        "print (\"The product of list elements is \")"
      ],
      "execution_count": 23,
      "outputs": [
        {
          "output_type": "stream",
          "text": [
            "The sum of the list elements is : 17\n",
            "The product of list elements is \n"
          ],
          "name": "stdout"
        }
      ]
    },
    {
      "cell_type": "code",
      "metadata": {
        "id": "AXX4aZQCn9uW",
        "outputId": "00809910-62e9-41b6-d7d0-11fd91a7df24",
        "colab": {
          "base_uri": "https://localhost:8080/"
        }
      },
      "source": [
        "# importing functools for reduce()\n",
        "import functools\n",
        "\n",
        "# importing operator for operator functions\n",
        "import operator\n",
        "\n",
        "# initializing list\n",
        "lis = [ 1 , 3, 5, 6, 2, ]\n",
        "x= lambda lis : (functools.reduce(operator.mul,lis))\n",
        "print(x(lis))"
      ],
      "execution_count": 21,
      "outputs": [
        {
          "output_type": "stream",
          "text": [
            "180\n"
          ],
          "name": "stdout"
        }
      ]
    },
    {
      "cell_type": "code",
      "metadata": {
        "id": "oZSwrNZfYckv"
      },
      "source": [
        "def f1 (str):\n",
        "  temp =\"\"\n",
        "  for character in str:\n",
        "    if character.isupper()==True:\n",
        "      temp +=character.lower()\n",
        "    else:\n",
        "      temp +=word.upper()\n",
        "  return temp"
      ],
      "execution_count": 2,
      "outputs": []
    },
    {
      "cell_type": "code",
      "metadata": {
        "id": "kMq1sGbUjjnM",
        "outputId": "4fcd3ef2-ee75-4cda-ab36-7cf0a899f4d8",
        "colab": {
          "base_uri": "https://localhost:8080/",
          "height": 189
        }
      },
      "source": [
        "c=f1(\"ASd\")\n",
        "print(c)"
      ],
      "execution_count": 16,
      "outputs": [
        {
          "output_type": "error",
          "ename": "NameError",
          "evalue": "ignored",
          "traceback": [
            "\u001b[0;31m---------------------------------------------------------------------------\u001b[0m",
            "\u001b[0;31mNameError\u001b[0m                                 Traceback (most recent call last)",
            "\u001b[0;32m<ipython-input-16-a884f41091b0>\u001b[0m in \u001b[0;36m<module>\u001b[0;34m()\u001b[0m\n\u001b[0;32m----> 1\u001b[0;31m \u001b[0mc\u001b[0m\u001b[0;34m=\u001b[0m\u001b[0mf1\u001b[0m\u001b[0;34m(\u001b[0m\u001b[0;34m\"ASd\"\u001b[0m\u001b[0;34m)\u001b[0m\u001b[0;34m\u001b[0m\u001b[0;34m\u001b[0m\u001b[0m\n\u001b[0m\u001b[1;32m      2\u001b[0m \u001b[0mprint\u001b[0m\u001b[0;34m(\u001b[0m\u001b[0mc\u001b[0m\u001b[0;34m)\u001b[0m\u001b[0;34m\u001b[0m\u001b[0;34m\u001b[0m\u001b[0m\n",
            "\u001b[0;31mNameError\u001b[0m: name 'f1' is not defined"
          ]
        }
      ]
    }
  ]
}