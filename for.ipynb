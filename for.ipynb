{
  "nbformat": 4,
  "nbformat_minor": 0,
  "metadata": {
    "colab": {
      "name": "Untitled6.ipynb",
      "provenance": [],
      "authorship_tag": "ABX9TyP//VbWlKaCNEVGJtrlN2Cv",
      "include_colab_link": true
    },
    "kernelspec": {
      "name": "python3",
      "display_name": "Python 3"
    },
    "language_info": {
      "name": "python"
    }
  },
  "cells": [
    {
      "cell_type": "markdown",
      "metadata": {
        "id": "view-in-github",
        "colab_type": "text"
      },
      "source": [
        "<a href=\"https://colab.research.google.com/github/ma5477/hello-world/blob/main/for.ipynb\" target=\"_parent\"><img src=\"https://colab.research.google.com/assets/colab-badge.svg\" alt=\"Open In Colab\"/></a>"
      ]
    },
    {
      "cell_type": "code",
      "metadata": {
        "id": "t3tgFMD4gfCI"
      },
      "source": [
        "x=[[2,5],[5,9],[2,7,8],[1,2,3,4],[8]]\n",
        "for r in x:\n",
        "  for c in r:\n",
        "    print(c,\"-\")\n",
        "    print(\"finish\") "
      ],
      "execution_count": null,
      "outputs": []
    }
  ]
}